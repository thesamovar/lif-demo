{
 "cells": [
  {
   "cell_type": "markdown",
   "id": "02495334",
   "metadata": {},
   "source": [
    "# Demo of Leaky Integrate-and-Fire Neuron\n",
    "\n",
    "Run the cell to see the interactive plots."
   ]
  },
  {
   "cell_type": "code",
   "execution_count": null,
   "id": "6f01d170",
   "metadata": {},
   "outputs": [],
   "source": [
    "# Imports\n",
    "%matplotlib notebook\n",
    "import numpy as np\n",
    "import matplotlib.pyplot as plt\n",
    "import ipywidgets as widgets\n",
    "\n",
    "# Figure/axis we'll use to plot on\n",
    "plt.figure(figsize=(5, 4))\n",
    "ax = plt.subplot(111)\n",
    "\n",
    "# Function that runs the simulation\n",
    "# tau: time constant (in ms)\n",
    "# t0, t1, t2: time of three input spikes\n",
    "# w: input synapse weight\n",
    "# threshold: threshold value to produce a spike\n",
    "# reset: reset value after a spike\n",
    "def LIF(tau=10, t0=20, t1=40, t2=60, w=0.1, threshold=1.0, reset=0.0):\n",
    "    # Spike times, keep sorted because it's more efficient to pop the last value off the list\n",
    "    times = [t0, t1, t2]\n",
    "    times.sort(reverse=True)\n",
    "    # set some default parameters\n",
    "    duration = 100 # total time in ms\n",
    "    dt = 0.1 # timestep in ms\n",
    "    alpha = np.exp(-dt/tau) # this is the factor by which V decays each time step\n",
    "    V_rec = [] # list to record membrane potentials\n",
    "    V = 0.0 # initial membrane potential\n",
    "    T = np.arange(np.round(duration/dt))*dt # array of times\n",
    "    spikes = [] # list to store spike times\n",
    "    # clear the axis and plot the spike times\n",
    "    ax.clear()\n",
    "    for t in times:\n",
    "        ax.axvline(t, ls=':', c='b')\n",
    "    # run the simulation\n",
    "    for t in T:\n",
    "        V_rec.append(V) # record\n",
    "        V *= alpha # integrate equations\n",
    "        if times and t>times[-1]: # if there has been an input spike\n",
    "            V += w\n",
    "            times.pop() # remove that spike from list\n",
    "        if V>threshold: # if there should be an output spike\n",
    "            V = reset\n",
    "            spikes.append(t)\n",
    "    # plot everything\n",
    "    ax.plot(T, V_rec, '-k', lw=2)\n",
    "    for t in spikes:\n",
    "        ax.axvline(t, ls='--', c='r')\n",
    "    ax.set_xlim(0, duration)\n",
    "    ax.set_ylim(bottom=min(threshold, reset, 0.0, min(V_rec)),\n",
    "                top=max(threshold, reset, 1.0, max(V_rec)))\n",
    "    ax.set_xlabel('Time (ms)')\n",
    "    ax.set_ylabel('V')\n",
    "    \n",
    "# Create an interactive widget\n",
    "widgets.interact(LIF,\n",
    "    tau=widgets.IntSlider(min=1, max=100, value=50),\n",
    "    t0=widgets.IntSlider(min=0, max=100, value=20),\n",
    "    t1=widgets.IntSlider(min=0, max=100, value=40),\n",
    "    t2=widgets.IntSlider(min=0, max=100, value=60),\n",
    "    w=widgets.FloatSlider(min=-1, max=2, step=0.1, value=0.5),\n",
    "    threshold=widgets.FloatSlider(min=0.0, max=2.0, step=0.1, value=1.0),\n",
    "    reset=widgets.FloatSlider(min=-1.0, max=1.0, step=0.1, value=0.0),\n",
    "    );"
   ]
  }
 ],
 "metadata": {
  "kernelspec": {
   "display_name": "Python 3",
   "language": "python",
   "name": "python3"
  },
  "language_info": {
   "codemirror_mode": {
    "name": "ipython",
    "version": 3
   },
   "file_extension": ".py",
   "mimetype": "text/x-python",
   "name": "python",
   "nbconvert_exporter": "python",
   "pygments_lexer": "ipython3",
   "version": "3.9.2"
  }
 },
 "nbformat": 4,
 "nbformat_minor": 5
}
